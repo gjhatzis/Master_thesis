{
 "cells": [
  {
   "cell_type": "code",
   "execution_count": 5,
   "metadata": {},
   "outputs": [
    {
     "ename": "SyntaxError",
     "evalue": "EOL while scanning string literal (<ipython-input-5-0564450f48e9>, line 31)",
     "output_type": "error",
     "traceback": [
      "\u001b[1;36m  File \u001b[1;32m\"<ipython-input-5-0564450f48e9>\"\u001b[1;36m, line \u001b[1;32m31\u001b[0m\n\u001b[1;33m    review = review_class.find('q', class_='location-review-review-list-parts-ExpandableReview__reviewText--gOmRC)\u001b[0m\n\u001b[1;37m                                                                                                                  ^\u001b[0m\n\u001b[1;31mSyntaxError\u001b[0m\u001b[1;31m:\u001b[0m EOL while scanning string literal\n"
     ]
    }
   ],
   "source": [
    "import requests\n",
    "import pandas as pd\n",
    "from bs4 import BeautifulSoup\n",
    "\n",
    "review_list= []\n",
    "Seat_Type=[]\n",
    "Seat_Comfort=[]\n",
    "Cabin_Staff_Service=[]\n",
    "Ground_Service=[]\n",
    "Value_For_Money= []\n",
    "Recommended=[]\n",
    "\n",
    "total_reviews = 0\n",
    "for i in range(0,5,5):\n",
    "    url = 'https://www.tripadvisor.com.gr/Airline_Review-d8729141-Reviews-or%s-Ryanair.html#REVIEWS' %(i)\n",
    "\n",
    "    r = requests.get(url)\n",
    "    \n",
    "    status = r.status_code\n",
    "    if status == 200:\n",
    "        page_num = int((i/5)+1)\n",
    "        print('PAGE %s REVIEWS\\n'%(page_num))\n",
    "       \n",
    "        html_content = r.text\n",
    "        html_soup = BeautifulSoup(html_content, \"html.parser\")\n",
    "        \n",
    "        \n",
    "        for item in html_soup.find_all('div', class_ ='location-review-card-Card__ui_card--2Mri0 location-review-card-Card__card--o3LVm location-review-card-Card__section--NiAcw'):\n",
    "             for item_2 in item.find('div', class_='location-review-review-list-parts-SingleReview__mainCol--1hApa'):\n",
    "                    review_class = item_2.find('div', class_='location-review-review-list-parts-ExpandableReview__containerStyles--1G0AE')\n",
    "                    review = review_class.find('q', class_='location-review-review-list-parts-ExpandableReview__reviewText--gOmRC)\n",
    "                    review_text = review.get_text(strip = True)\n",
    "        print(review_text)\n",
    "        \n",
    "        '''for review in range(1,len(review_soup)):\n",
    "            total_reviews +=1\n",
    "            print('Review no.%s\\n'%(review))\n",
    "            review_list.append(review_soup[review].text)\n",
    "       \n",
    "            \n",
    "     \n",
    "            #print(type_of_traveller_soup[review].text)\n",
    "            #print('\\n')\n",
    "       \n",
    "    else:     \n",
    "        break\n",
    "df = pd.DataFrame(review_list)'''"
   ]
  },
  {
   "cell_type": "code",
   "execution_count": 7,
   "metadata": {},
   "outputs": [
    {
     "data": {
      "text/plain": [
       "[]"
      ]
     },
     "execution_count": 7,
     "metadata": {},
     "output_type": "execute_result"
    }
   ],
   "source": [
    "review_list"
   ]
  },
  {
   "cell_type": "code",
   "execution_count": 8,
   "metadata": {},
   "outputs": [
    {
     "data": {
      "text/html": [
       "<div>\n",
       "<style scoped>\n",
       "    .dataframe tbody tr th:only-of-type {\n",
       "        vertical-align: middle;\n",
       "    }\n",
       "\n",
       "    .dataframe tbody tr th {\n",
       "        vertical-align: top;\n",
       "    }\n",
       "\n",
       "    .dataframe thead th {\n",
       "        text-align: right;\n",
       "    }\n",
       "</style>\n",
       "<table border=\"1\" class=\"dataframe\">\n",
       "  <thead>\n",
       "    <tr style=\"text-align: right;\">\n",
       "      <th></th>\n",
       "    </tr>\n",
       "  </thead>\n",
       "  <tbody>\n",
       "  </tbody>\n",
       "</table>\n",
       "</div>"
      ],
      "text/plain": [
       "Empty DataFrame\n",
       "Columns: []\n",
       "Index: []"
      ]
     },
     "execution_count": 8,
     "metadata": {},
     "output_type": "execute_result"
    }
   ],
   "source": [
    "df"
   ]
  },
  {
   "cell_type": "code",
   "execution_count": null,
   "metadata": {},
   "outputs": [],
   "source": []
  }
 ],
 "metadata": {
  "kernelspec": {
   "display_name": "Python 3",
   "language": "python",
   "name": "python3"
  },
  "language_info": {
   "codemirror_mode": {
    "name": "ipython",
    "version": 3
   },
   "file_extension": ".py",
   "mimetype": "text/x-python",
   "name": "python",
   "nbconvert_exporter": "python",
   "pygments_lexer": "ipython3",
   "version": "3.7.6"
  }
 },
 "nbformat": 4,
 "nbformat_minor": 4
}
