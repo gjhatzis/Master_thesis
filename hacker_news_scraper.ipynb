{
 "cells": [
  {
   "cell_type": "code",
   "execution_count": 3,
   "metadata": {},
   "outputs": [
    {
     "name": "stdout",
     "output_type": "stream",
     "text": [
      "{'link': 'https://github.com/joshiemoore/snakeware', 'title': 'Snakeware – Linux distro with Python userspace inspired by Commodore 64', 'score': '129 points', 'comments': '0 comments'}\n",
      "{'link': 'https://blog.torproject.org/new-release-tor-browser-95', 'title': 'Tor Browser 9.5', 'score': '21 points', 'comments': '0 comments'}\n",
      "{'link': 'https://www.jefftk.com/p/simplifying-board-games', 'title': 'Simplifying Board Games', 'score': '120 points', 'comments': '0 comments'}\n",
      "{'link': 'https://arstechnica.com/tech-policy/2020/06/publishers-sue-internet-archive-over-massive-digital-lending-program/', 'title': 'Lawsuit over online book lending could bankrupt Internet Archive', 'score': '151 points', 'comments': '0 comments'}\n",
      "{'link': 'https://www.axios.com/companies-produce-tear-gas-protests-58051fa3-8ac2-4fa7-817f-8cda0af1a14d.html', 'title': 'The business of tear gas', 'score': '112 points', 'comments': '0 comments'}\n",
      "{'link': 'https://www.eff.org/deeplinks/2020/06/internet-users-all-kinds-should-be-concerned-new-copyright-offices-report', 'title': 'Internet Users of All Kinds Should Be Concerned by a New Copyright Office Report', 'score': '85 points', 'comments': '0 comments'}\n",
      "{'link': 'item?id=23390966', 'title': 'Ask HN: How does your company manage its encryption keys?', 'score': '187 points', 'comments': '0 comments'}\n",
      "{'link': 'http://www.lefardierdecugnot.fr/Accueil%20en%20anglais.htm', 'title': 'Le fardier de Cugnot: Replica of the first automobile', 'score': '86 points', 'comments': '0 comments'}\n",
      "{'link': 'https://boards.greenhouse.io/logdna/jobs/4703358002', 'title': 'LogDNA (YC W15) – Is Hiring Senior Back End Engineer (Remote)', 'score': '0 points', 'comments': '0 comments'}\n",
      "{'link': 'https://arxiv.org/abs/2006.01117', 'title': 'NSTM: Real-Time Query-Driven News Overview Composition at Bloomberg', 'score': '12 points', 'comments': '0 comments'}\n",
      "{'link': 'https://arstechnica.com/tech-policy/2020/05/walmart-employees-are-out-to-show-its-anti-shoplifting-ai-doesnt-work/', 'title': 'Walmart employees are out to show its anti-shoplifting AI doesn’t work', 'score': '50 points', 'comments': '0 comments'}\n",
      "{'link': 'https://www.anandtech.com/show/15823/russias-elbrus-8cb-microarchitecture-8core-vliw-on-tsmc-28nm', 'title': 'Russia’s Elbrus 8CB Microarchitecture: 8-Core VLIW on TSMC 28nm', 'score': '104 points', 'comments': '0 comments'}\n",
      "{'link': 'https://martinheinz.dev/blog/24', 'title': 'Guide to Python Debugging', 'score': '417 points', 'comments': '0 comments'}\n",
      "{'link': 'https://schmud.de/posts/2020-06-02-mlk.html', 'title': 'IBM Strech, the NSA, and MLK', 'score': '10 points', 'comments': '0 comments'}\n",
      "{'link': 'https://lvee.org/en/abstracts/303', 'title': 'Free software porting on the Elbrus architecture', 'score': '19 points', 'comments': '0 comments'}\n",
      "{'link': 'https://www.nytimes.com/2020/06/01/us/politics/police-military-gear.html', 'title': 'Lawmakers Begin Bipartisan Push to Cut Off Police Access to Military-Style Gear', 'score': '20 points', 'comments': '0 comments'}\n",
      "{'link': 'https://stratechery.com/2020/dust-in-the-light/', 'title': 'Stratechery – Dust in the Light', 'score': '5 points', 'comments': '0 comments'}\n",
      "{'link': 'https://medium.com/@stevemoffatt/scale-as-an-input-not-an-output-897fb81ea3f4', 'title': 'Scale as a Design Input, Not an Output', 'score': '15 points', 'comments': '0 comments'}\n",
      "{'link': 'http://oceans.nautil.us/feature/564/why-our-intuition-about-sea-level-rise-is-wrong', 'title': 'Why Our Intuition About Sea-Level Rise Is Wrong', 'score': '238 points', 'comments': '0 comments'}\n",
      "{'link': 'https://www.bloomberg.com/news/articles/2020-05-28/national-security-agency-exposes-tool-used-by-russian-hackers', 'title': 'NSA Exposes Tool Used by Russian Hackers', 'score': '99 points', 'comments': '0 comments'}\n",
      "{'link': 'https://kb.cert.org/vuls/id/636397', 'title': 'IP-in-IP protocol routes arbitrary traffic by default', 'score': '60 points', 'comments': '0 comments'}\n",
      "{'link': 'https://www.historytoday.com/reviews/fortune’s-favours', 'title': 'Fortune’s Favours: Discovering Machiavelli’s talent for losing', 'score': '5 points', 'comments': '0 comments'}\n",
      "{'link': 'https://www.kdab.com/kuesa-3d-1-2-release/', 'title': 'Kuesa 3D 1.2', 'score': '39 points', 'comments': '0 comments'}\n",
      "{'link': 'https://www.fairwinds.com/blog/fairwinds-polaris-1.0-best-practices-for-kubernetes-workloads', 'title': 'Polaris 1.0: Best Practices for Kubernetes Workloads', 'score': '3 points', 'comments': '0 comments'}\n",
      "{'link': 'https://getimageview.net/2020/06/02/microsoft-defender-smartscreen-is-hurting-independent-developers/', 'title': 'Microsoft Defender SmartScreen is hurting independent developers', 'score': '6 points', 'comments': '0 comments'}\n",
      "{'link': 'https://www.neh.gov/article/what-did-bach-sound-bach', 'title': 'What Did Bach Sound Like to Bach?', 'score': '108 points', 'comments': '0 comments'}\n",
      "{'link': 'https://eugeneyan.com/2020/04/05/note-taking-zettelkasten/', 'title': 'Stop Taking Regular Notes; Use a Zettelkasten Instead', 'score': '687 points', 'comments': '0 comments'}\n",
      "{'link': 'http://penrose.ink/siggraph20', 'title': 'Penrose: From mathematical notation to beautiful diagrams', 'score': '124 points', 'comments': '0 comments'}\n",
      "{'link': 'https://www.medrxiv.org/content/10.1101/2020.06.01.20112334v1', 'title': 'Study of the effect of Vitamin D, Magnesium and Vitamin B12 on Covid-19 patients', 'score': '162 points', 'comments': '0 comments'}\n",
      "{'link': 'https://spectrum.ieee.org/tech-talk/semiconductors/optoelectronics/vortex-laser', 'title': 'Vortex Lasers May Be a Boon for Data', 'score': '30 points', 'comments': '0 comments'}\n"
     ]
    }
   ],
   "source": [
    "import requests\n",
    "from bs4 import BeautifulSoup\n",
    "import re\n",
    "\n",
    "articles = []\n",
    "url = 'https://news.ycombinator.com/news'\n",
    "\n",
    "r = requests.get(url)\n",
    "html_soup = BeautifulSoup(r.text, 'html.parser')\n",
    "\n",
    "for item in html_soup.find_all('tr', class_= 'athing'):\n",
    "    item_a = item.find('a', class_='storylink')\n",
    "    item_link = item_a.get('href')if item_a else None\n",
    "    item_text = item_a.get_text(strip = True) if item_a else None\n",
    "    next_row = item.find_next_sibling('tr')\n",
    "    item_score = next_row.find('span', class_='score')\n",
    "    item_score = item_score.get_text(strip = True) if item_score else '0 points'\n",
    "    \n",
    "    item_comments = next_row.find('a', string = re.compile('\\d+(&nbsp;|\\s) comment(s?)'))\n",
    "    item_comments = item_comments.get_text(strip=True).replace('\\xa0', ' ') if item_comments else '0 comments'\n",
    "    articles.append({\n",
    "                    'link' : item_link,\n",
    "                    'title' : item_text,\n",
    "                    'score' : item_score,\n",
    "                    'comments' : item_comments})\n",
    "for article in articles:\n",
    "    print(article)\n",
    "    \n",
    "    "
   ]
  },
  {
   "cell_type": "code",
   "execution_count": null,
   "metadata": {},
   "outputs": [],
   "source": []
  }
 ],
 "metadata": {
  "kernelspec": {
   "display_name": "Python 3",
   "language": "python",
   "name": "python3"
  },
  "language_info": {
   "codemirror_mode": {
    "name": "ipython",
    "version": 3
   },
   "file_extension": ".py",
   "mimetype": "text/x-python",
   "name": "python",
   "nbconvert_exporter": "python",
   "pygments_lexer": "ipython3",
   "version": "3.7.6"
  }
 },
 "nbformat": 4,
 "nbformat_minor": 4
}
